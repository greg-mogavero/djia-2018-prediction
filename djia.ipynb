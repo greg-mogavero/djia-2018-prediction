{
 "cells": [
  {
   "cell_type": "markdown",
   "metadata": {},
   "source": [
    "# Calculate DJIA"
   ]
  },
  {
   "cell_type": "code",
   "execution_count": 28,
   "metadata": {},
   "outputs": [
    {
     "name": "stdout",
     "output_type": "stream",
     "text": [
      "24180.637971\n"
     ]
    }
   ],
   "source": [
    "import pandas as pd\n",
    "import numpy as np\n",
    "\n",
    "import os\n",
    "\n",
    "filedir = 'dow30_dfs/'\n",
    "filenames = os.listdir(filedir)\n",
    "filenames = list(map(lambda x: filedir + x, filenames))\n",
    "\n",
    "df = pd.read_csv(filenames[0])\n",
    "# only grab the last 2448 rows since Visa is missing over 1000 rows for some reason\n",
    "nrows = 2448\n",
    "\n",
    "prices = np.zeros(nrows)\n",
    "\n",
    "for filename in filenames:\n",
    "    df = pd.read_csv(filename, na_values=['null'])\n",
    "    close = df['Close'].interpolate().values\n",
    "    close = close[len(close) - nrows:]\n",
    "    prices += close\n",
    "\n",
    "# Dow Divisor as of 09/01/2017\n",
    "d = 0.14523396877348\n",
    "\n",
    "djia = prices / d\n",
    "\n",
    "print(djia[-1])"
   ]
  },
  {
   "cell_type": "code",
   "execution_count": null,
   "metadata": {
    "collapsed": true
   },
   "outputs": [],
   "source": []
  }
 ],
 "metadata": {
  "kernelspec": {
   "display_name": "Python 3",
   "language": "python",
   "name": "python3"
  },
  "language_info": {
   "codemirror_mode": {
    "name": "ipython",
    "version": 3
   },
   "file_extension": ".py",
   "mimetype": "text/x-python",
   "name": "python",
   "nbconvert_exporter": "python",
   "pygments_lexer": "ipython3",
   "version": "3.6.2"
  }
 },
 "nbformat": 4,
 "nbformat_minor": 2
}
